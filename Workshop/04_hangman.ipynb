{
 "cells": [
  {
   "cell_type": "markdown",
   "metadata": {},
   "source": [
    "### Exercise: Hangman Game\n",
    "\n",
    "We want to create the hangman game as a Flask-Web Application.\n",
    "\n",
    "First up, we will need to create a class for managing the game."
   ]
  },
  {
   "cell_type": "markdown",
   "metadata": {},
   "source": [
    "### Task 1: Hangman Class\n",
    "\n",
    "Create a class called `Hangman` that has one class-attribute:\n",
    "\n",
    "- `wordlist`: a list that contains lower-letter strings representing possible words for the game\n",
    "\n",
    "Test your code with the cell below. \n",
    "\n",
    "<b>ALWAYS RESTART THE KERNEL BEFORE TESTING!</b>"
   ]
  },
  {
   "cell_type": "code",
   "execution_count": 1,
   "metadata": {},
   "outputs": [],
   "source": [
    "### TESTING ###\n",
    "from Hangman import Hangman\n",
    "\n",
    "hangman = Hangman()\n",
    "assert(isinstance(hangman.wordlist, list))"
   ]
  },
  {
   "cell_type": "markdown",
   "metadata": {},
   "source": [
    "### Task 2: Starting a game\n",
    "\n",
    "To run and keep track of a game, we will need some more class attributes.\n",
    "\n",
    "Inside your class `Hangman`, create a function called `start_game()` that creates the following class attributes:\n",
    "\n",
    "- `win`: a boolean (False at start)\n",
    "\n",
    "- `lost`: a boolean (False at start)\n",
    "\n",
    "- `word`: a string that represents the word for the current game. Use the function `choice` from the library `random` to select a random word from the wordlist\n",
    "\n",
    "- `current_word`: a list that contains one `_` for each letter of the current word\n",
    "\n",
    "- `guessed`: a list (empty at start)\n",
    "\n",
    "- `lives`: an integer that represents the number of lives left (8 at start)\n",
    "\n",
    "Call the function `start_game()` in the constructor of the class!"
   ]
  },
  {
   "cell_type": "code",
   "execution_count": 1,
   "metadata": {},
   "outputs": [],
   "source": [
    "### TESTING ###\n",
    "\n",
    "from Hangman import Hangman\n",
    "\n",
    "hangman = Hangman()\n",
    "assert(isinstance(hangman.wordlist, list))\n",
    "assert(not hangman.win)\n",
    "assert(not hangman.lost)\n",
    "assert(isinstance(hangman.word, str))\n",
    "assert(isinstance(hangman.current_word, list))\n",
    "assert(isinstance(hangman.guessed, list))\n",
    "assert(hangman.lives == 8)"
   ]
  },
  {
   "cell_type": "markdown",
   "metadata": {},
   "source": [
    "### Task 3: Guessing a letter\n",
    "\n",
    "You now have a function for starting the game.\n",
    "\n",
    "Next up, we need to create a function that can be called to guess a letter.\n",
    "\n",
    "Create a function called `guess()` that takes one argument:\n",
    "\n",
    "- `letter`: a string that represents the guessed letter\n",
    "\n",
    "The function needs to do the following steps:\n",
    "\n",
    "1. Check if the argument `letter` is in the correct format (a lower-letter string with the length 1)\n",
    "\n",
    "2. Check if the letter is in the current word.\n",
    "\n",
    "- If so: replace the corresponding letters in the list `self.current_word`.\n",
    "\n",
    "- Else: substract one from the integer `self.lives` and append the letter to the list `self.guessed`.\n",
    "\n",
    "3. Check if the player won (and set the boolean `self.win` to True)\n",
    "\n",
    "4. Check if the player lost (and set the boolean `self.lost` to True)"
   ]
  },
  {
   "cell_type": "code",
   "execution_count": null,
   "metadata": {},
   "outputs": [],
   "source": [
    "### TESTING ###\n",
    "\n",
    "# ... test the functionality yourself!"
   ]
  },
  {
   "cell_type": "markdown",
   "metadata": {},
   "source": [
    "### Task 4: Web Development\n",
    "\n",
    "We now have a functioning class for playing the Hangman-Game in Python!\n",
    "\n",
    "Now we get to the web-development part.\n",
    "\n",
    "1. Set up a new Flask Application in a python file `app.py`.\n",
    "\n",
    "2. Inside `app.py`, create an instance of `Hangman`.\n",
    "\n",
    "3. Create a new, empty folder called `templates`."
   ]
  },
  {
   "cell_type": "markdown",
   "metadata": {},
   "source": [
    "### Task 5: Templates\n",
    "\n",
    "Inside your templates-folder, create five html-files:\n",
    "\n",
    "`base.html` - the HTML base for templating\n",
    "\n",
    "`index.html` - the starting screen\n",
    "\n",
    "`game.html` - the game screen\n",
    "\n",
    "`lost.html` - the looser screen\n",
    "\n",
    "`win.html` - the winner screen\n",
    "\n",
    "Into `base.html`, copy the following template:"
   ]
  },
  {
   "cell_type": "code",
   "execution_count": null,
   "metadata": {
    "vscode": {
     "languageId": "html"
    }
   },
   "outputs": [],
   "source": [
    "<!-- templates/base.html -->\n",
    "\n",
    "<!doctype html>\n",
    "<html lang=\"en\">\n",
    "\n",
    "<head>\n",
    "    <meta charset=\"utf-8\">\n",
    "    <meta name=\"viewport\" content=\"width=device-width, initial-scale=1\">\n",
    "    <title>Hangman Game</title>\n",
    "    <link href=\"https://cdn.jsdelivr.net/npm/bootstrap@5.3.2/dist/css/bootstrap.min.css\" rel=\"stylesheet\"\n",
    "        integrity=\"sha384-T3c6CoIi6uLrA9TneNEoa7RxnatzjcDSCmG1MXxSR1GAsXEV/Dwwykc2MPK8M2HN\" crossorigin=\"anonymous\">\n",
    "</head>\n",
    "\n",
    "<body>\n",
    "    <script src=\"https://cdn.jsdelivr.net/npm/bootstrap@5.3.2/dist/js/bootstrap.bundle.min.js\"\n",
    "        integrity=\"sha384-C6RzsynM9kWDrMNeT87bh95OGNyZPhcTNXj1NW7RuBCsyN/o0jlpcV8Qyq46cDfL\"\n",
    "        crossorigin=\"anonymous\"></script>\n",
    "    <center>\n",
    "        {% block content %}{% endblock %}\n",
    "    </center>\n",
    "</body>\n",
    "\n",
    "</html>"
   ]
  },
  {
   "cell_type": "markdown",
   "metadata": {},
   "source": [
    "### Task 6: Extending Templates\n",
    "\n",
    "Inside the other files, use Jinja-Templating to extend `base.html` and create a block for the content."
   ]
  },
  {
   "cell_type": "markdown",
   "metadata": {},
   "source": [
    "### Task 7: Routing\n",
    "\n",
    "The first route to create would be the `index`-route.\n",
    "\n",
    "1. Inside `app.py`, create a new route for index, that returns the rendered template `index.html`.\n",
    "\n",
    "2. Also in `app.py`, create a new route for game, that returns the rendered template for `game.html`."
   ]
  },
  {
   "cell_type": "markdown",
   "metadata": {},
   "source": [
    "### Task 8: Index Screen\n",
    "\n",
    "The HTML-file `index.html` needs to contain just one button. \n",
    "\n",
    "The button links to `game.html` and starts a new game."
   ]
  },
  {
   "cell_type": "markdown",
   "metadata": {},
   "source": [
    "### Task 9: Game Screen\n",
    "\n",
    "The HTML-file `game.html` is the most complex one.\n",
    "\n",
    "In `app.py` as you render the template `game.html`, pass the instance of Hangman as an argument.\n",
    "\n",
    "Use the instance in `game.html` to display information about the current game:\n",
    "\n",
    "1. Display the current word (hidden, with each letter being a \"_\" if not yet guessed).\n",
    "\n",
    "2. Display all of the letters that were already guessed.\n",
    "\n",
    "3. Display the lives the user currently has.\n",
    "\n",
    "4. Create a button for restarting the game.\n",
    "\n",
    "5. Create a form for guessing a new letter."
   ]
  },
  {
   "cell_type": "markdown",
   "metadata": {},
   "source": [
    "### Task 10: Processing a guess\n",
    "\n",
    "Inside `app.py`, import the flask library `request`.\n",
    "\n",
    "Use it to process a guess from the user upon submitting the form in `game.html`.\n",
    "\n",
    "If you eventually won, render the template for `win.html`.\n",
    "\n",
    "If you lost, render the template for `lost.html`."
   ]
  },
  {
   "cell_type": "markdown",
   "metadata": {},
   "source": [
    "### Task 11: Win Screen\n",
    "\n",
    "Make the win screen look nice (`win.html`)."
   ]
  },
  {
   "cell_type": "markdown",
   "metadata": {},
   "source": [
    "### Task 12: Looser Screen\n",
    "\n",
    "Make the looser screen look nice (`lost.html`)."
   ]
  }
 ],
 "metadata": {
  "kernelspec": {
   "display_name": "flask_auth",
   "language": "python",
   "name": "python3"
  },
  "language_info": {
   "codemirror_mode": {
    "name": "ipython",
    "version": 3
   },
   "file_extension": ".py",
   "mimetype": "text/x-python",
   "name": "python",
   "nbconvert_exporter": "python",
   "pygments_lexer": "ipython3",
   "version": "3.12.2"
  }
 },
 "nbformat": 4,
 "nbformat_minor": 2
}
