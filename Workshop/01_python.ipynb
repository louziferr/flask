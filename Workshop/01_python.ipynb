{
 "cells": [
  {
   "cell_type": "markdown",
   "metadata": {},
   "source": [
    "### Python: Recap Exercises\n",
    "\n",
    "# https://tinyurl.com/flask-ws"
   ]
  },
  {
   "cell_type": "markdown",
   "metadata": {},
   "source": [
    "### Task 1\n",
    "\n",
    "Given is a string representing the content of a HTML-website.\n",
    "\n",
    "The string contains one `<a>` element.\n",
    "\n",
    "Extract only the source of the website that the element is linking to and save it in a variable called `link`.\n",
    "\n",
    "Use the `find()` method and string indexing."
   ]
  },
  {
   "cell_type": "code",
   "execution_count": 9,
   "metadata": {},
   "outputs": [
    {
     "data": {
      "text/plain": [
       "'https://my-website.com'"
      ]
     },
     "execution_count": 9,
     "metadata": {},
     "output_type": "execute_result"
    }
   ],
   "source": [
    "website = \"<body><p>Websites: There are many like it, but this one is <a href='https://my-website.com'>mine.</a></p></body>\"\n",
    "\n",
    "### your solution\n",
    "start = website.find(\"href=\")\n",
    "link = website[start+6:]\n",
    "end = link.find(\"'>\")\n",
    "link = link[:end]\n",
    "\n",
    "link"
   ]
  },
  {
   "cell_type": "code",
   "execution_count": 12,
   "metadata": {},
   "outputs": [
    {
     "data": {
      "text/plain": [
       "'https://my-website.com'"
      ]
     },
     "execution_count": 12,
     "metadata": {},
     "output_type": "execute_result"
    }
   ],
   "source": [
    "import re\n",
    "\n",
    "# using regular expression\n",
    "\n",
    "links = re.findall(r'<a href=\\'(.*?)\\'>', website)\n",
    "\n",
    "links[0]"
   ]
  },
  {
   "cell_type": "markdown",
   "metadata": {},
   "source": [
    "### Task 2\n",
    "\n",
    "Given is a list called `tags` that contains strings representing HTML-tags.\n",
    "\n",
    "Create a new list called `closed_tags` that contains the same tags but in the closed form."
   ]
  },
  {
   "cell_type": "code",
   "execution_count": 14,
   "metadata": {},
   "outputs": [
    {
     "data": {
      "text/plain": [
       "['</h1>', '</h2>', '</a>', '</script>']"
      ]
     },
     "execution_count": 14,
     "metadata": {},
     "output_type": "execute_result"
    }
   ],
   "source": [
    "tags = ['<h1>', '<h2>', '<a>', '<script>']\n",
    "\n",
    "### your solution ###\n",
    "closed_tags = [tag[:1] + '/' + tag[1:] for tag in tags]\n",
    "\n",
    "closed_tags"
   ]
  },
  {
   "cell_type": "code",
   "execution_count": 24,
   "metadata": {},
   "outputs": [
    {
     "name": "stdout",
     "output_type": "stream",
     "text": [
      "False\n"
     ]
    }
   ],
   "source": [
    "def test():\n",
    "    my_dict = {\"age\": 4}\n",
    "    return 4 == my_dict.get(\"age\", False)\n",
    "\n",
    "print(test())"
   ]
  },
  {
   "cell_type": "markdown",
   "metadata": {},
   "source": [
    "### Task 3\n",
    "\n",
    "Imagine you work with strings that represent the HTML-contents of websites.\n",
    "\n",
    "You want to know exactly, which tags are used in the strings.\n",
    "\n",
    "Write a function called `get_tags(web_string)` that takes one argument:\n",
    "\n",
    "- `web_string`: a string representing the HTML-content of a website\n",
    "\n",
    "It returns a dictionary in the form:\n",
    "\n",
    "- `keys`: strings that represent the used tags\n",
    "\n",
    "- `values`: integers that represent the number of times the tag has occured\n",
    "\n",
    "### Example\n",
    "\n",
    "`get_tags('<h1>Welcome to my first webpage!</h1><p>I am excited.</p>')`\n",
    "\n",
    "should return\n",
    "\n",
    "`{'<h1>': 1, '</h1>': 1, '<p>': 1, '</p>': 1}`"
   ]
  },
  {
   "cell_type": "code",
   "execution_count": 4,
   "metadata": {},
   "outputs": [],
   "source": [
    "### your solution ###"
   ]
  },
  {
   "cell_type": "code",
   "execution_count": 5,
   "metadata": {},
   "outputs": [],
   "source": [
    "### TESTING ###\n",
    "\n",
    "assert(callable(get_tags))\n",
    "test = get_tags('<h1>Welcome to my first webpage!</h1><p>I am excited.</p><h1>Hope you are too!</h1>')\n",
    "assert(len(test) == 4)\n",
    "assert(test['<h1>'] == 2)"
   ]
  },
  {
   "cell_type": "markdown",
   "metadata": {},
   "source": [
    "### Task 4\n",
    "\n",
    "Write a function called `correct(web_string)` that takes one argument:\n",
    "\n",
    "- `web_string`: a string that represents HTML content\n",
    "\n",
    "The function checks wether the given string is in an acceptable HTML-format.\n",
    "\n",
    "For now, a correctly formatted string would simply include one closing tag for each opening tag.\n",
    "\n",
    "*Make use of the function `get_tags()`*"
   ]
  },
  {
   "cell_type": "code",
   "execution_count": 7,
   "metadata": {},
   "outputs": [
    {
     "data": {
      "text/plain": [
       "False"
      ]
     },
     "execution_count": 7,
     "metadata": {},
     "output_type": "execute_result"
    }
   ],
   "source": [
    "### your solution ###"
   ]
  },
  {
   "cell_type": "code",
   "execution_count": 9,
   "metadata": {},
   "outputs": [],
   "source": [
    "### TESTING ###\n",
    "assert(callable(correct))\n",
    "assert(correct('<h1>Welcome to my first webpage!</h1><p>I am excited.</p><h1>Hope you are too!</h1>'))\n",
    "assert(not correct('<h1>Welcome to my first webpage!</h1><p>I am excited.</p><h1>Hope you are too!'))\n",
    "assert(not correct('<h1>Welcome to my first webpage!</h1><p>I am excited.</p><h1>Hope you are too!</p>'))"
   ]
  }
 ],
 "metadata": {
  "kernelspec": {
   "display_name": "flask_auth",
   "language": "python",
   "name": "python3"
  },
  "language_info": {
   "codemirror_mode": {
    "name": "ipython",
    "version": 3
   },
   "file_extension": ".py",
   "mimetype": "text/x-python",
   "name": "python",
   "nbconvert_exporter": "python",
   "pygments_lexer": "ipython3",
   "version": "3.12.2"
  }
 },
 "nbformat": 4,
 "nbformat_minor": 2
}
