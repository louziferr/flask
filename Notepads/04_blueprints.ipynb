{
 "cells": [
  {
   "cell_type": "markdown",
   "metadata": {},
   "source": [
    "### Flask: Blueprints\n",
    "\n",
    "Sometimes you'll find developers dumping all of their logic into a single file called app.py.\n",
    "\n",
    "You will find a lot of tutorials that follow the same pattern. But it's not a good practice for a large-scale app.\n",
    "\n",
    "In Flask, also, you can organize your applications using Blueprints, a built-in concept in Flask similar to Python modules. \n",
    "\n",
    "In this tutorial, you’ll learn how a Flask Blueprint can help you structure your Flask application by grouping its functionality into reusable components."
   ]
  },
  {
   "cell_type": "markdown",
   "metadata": {},
   "source": [
    "### Small Flask Application\n",
    "```\n",
    "/app\n",
    "└── app.py\n",
    "```"
   ]
  },
  {
   "cell_type": "markdown",
   "metadata": {},
   "source": [
    "### What a Flask Blueprint Looks Like\n",
    "\n",
    "Flask Blueprints encapsulate functionality, such as views, templates, and other resources. \n",
    "\n",
    "To get a taste for how a Flask Blueprint would work, you can refactor the previous application by moving the index view into a Flask Blueprint. \n",
    "\n",
    "To do so, you have to create a Flask Blueprint that contains the index view and then use it in the application.\n",
    "\n",
    "This is what the file structure looks like for this new application:\n",
    "\n",
    "```\n",
    "app/\n",
    "|\n",
    "├── app.py\n",
    "└── example_blueprint.py\n",
    "```"
   ]
  },
  {
   "cell_type": "markdown",
   "metadata": {},
   "source": [
    "example_blueprint.py will contain the Flask Blueprint implementation. \n",
    "\n",
    "You’ll then modify app.py to use it.\n",
    "\n",
    "The following code block shows how you can implement this Flask Blueprint in `example_blueprint.py`. \n",
    "\n",
    "It contains a view at the route `/` that returns the text `\"This is an example app\"`:"
   ]
  },
  {
   "cell_type": "code",
   "execution_count": null,
   "metadata": {},
   "outputs": [],
   "source": [
    "# example_blueprint.py\n",
    "\n",
    "from flask import Blueprint\n",
    "\n",
    "example_blueprint = Blueprint('example_blueprint', __name__)\n",
    "\n",
    "@example_blueprint.route('/')\n",
    "def index():\n",
    "    return \"This is an example app\""
   ]
  },
  {
   "cell_type": "markdown",
   "metadata": {},
   "source": [
    "In the above code, you can see the steps common to most Flask Blueprint definitions:\n",
    "\n",
    "Create a Blueprint object called example_blueprint.\n",
    "\n",
    "Add views to example_blueprint using the route decorator.\n",
    "\n",
    "### How to Register Your Blueprints\n",
    "\n",
    "To use any Flask Blueprint, you have to import it and then register it in the application using register_blueprint().\n",
    "\n",
    "When a Flask Blueprint is registered, the application is extended with its contents."
   ]
  },
  {
   "cell_type": "code",
   "execution_count": null,
   "metadata": {},
   "outputs": [],
   "source": [
    "# app.py\n",
    "\n",
    "from flask import Flask\n",
    "from example_blueprint import example_blueprint\n",
    "\n",
    "app = Flask(__name__)\n",
    "app.register_blueprint(example_blueprint)\n",
    "\n",
    "app.run()"
   ]
  },
  {
   "cell_type": "markdown",
   "metadata": {},
   "source": [
    "### Template Routing with Blueprints\n",
    "\n",
    "With Blueprints, in order to create links in your templates, you would use something similar to the below:"
   ]
  },
  {
   "cell_type": "code",
   "execution_count": null,
   "metadata": {
    "vscode": {
     "languageId": "html"
    }
   },
   "outputs": [],
   "source": [
    "<a href=\"{{ url_for('admin_bp.admin_home') }}\">My Link</a>"
   ]
  },
  {
   "cell_type": "markdown",
   "metadata": {},
   "source": [
    "https://realpython.com/flask-blueprint/"
   ]
  }
 ],
 "metadata": {
  "language_info": {
   "name": "python"
  }
 },
 "nbformat": 4,
 "nbformat_minor": 2
}
