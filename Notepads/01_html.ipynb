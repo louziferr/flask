{
 "cells": [
  {
   "cell_type": "markdown",
   "metadata": {},
   "source": [
    "## Intro: HTML\n",
    "\n",
    "- from: [HTML Explained](https://www.w3schools.com/html/html_intro.asp)\n",
    "\n",
    "[Video: HTML in 5 minutes](https://youtu.be/salY_Sm6mv4?si=13TUpKxuN8VS_0fO)\n",
    "\n",
    "### What is HTML?\n",
    "\n",
    "HTML stands for Hyper Text Markup Language.\n",
    "\n",
    "HTML is the standard markup language for creating Web pages.\n",
    "\n",
    "HTML describes the structure of a Web page.\n",
    "\n",
    "HTML consists of a series of elements.\n",
    "\n",
    "HTML elements tell the browser how to display the content.\n",
    "\n",
    "### A simple HTML Document"
   ]
  },
  {
   "cell_type": "code",
   "execution_count": null,
   "metadata": {
    "vscode": {
     "languageId": "html"
    }
   },
   "outputs": [],
   "source": [
    "<!-- HTML Document -->\n",
    "\n",
    "<!DOCTYPE html>\n",
    "<html>\n",
    "<head>\n",
    "<title>Page Title</title>\n",
    "</head>\n",
    "<body>\n",
    "\n",
    "<h1>My First Heading</h1>\n",
    "<p>My first paragraph.</p>\n",
    "\n",
    "</body>\n",
    "</html>"
   ]
  },
  {
   "cell_type": "markdown",
   "metadata": {},
   "source": [
    "### Test it using CodePen: https://codepen.io/your-work"
   ]
  },
  {
   "cell_type": "markdown",
   "metadata": {},
   "source": [
    "### Example Explained\n",
    "\n",
    "The `<!DOCTYPE html>` declaration defines that this document is an HTML5 document.\n",
    "\n",
    "The `<html>` element is the root element of an HTML page.\n",
    "\n",
    "The `<head>` element contains meta information about the HTML page.\n",
    "\n",
    "The `<title>` element specifies a title for the HTML page (which is shown in the browser's title bar or in the page's tab).\n",
    "\n",
    "The `<body>` element defines the document's body, and is a container for all the visible contents, such as headings, paragraphs, images, hyperlinks, tables, lists, etc.\n",
    "\n",
    "The `<h1>` element defines a large heading.\n",
    "\n",
    "The `<p>` element defines a paragraph."
   ]
  },
  {
   "cell_type": "markdown",
   "metadata": {},
   "source": [
    "### What is an HTML Element?\n",
    "\n",
    "An HTML element is defined by a start tag, some content, and an end tag:\n",
    "\n",
    "`<tagname> Content goes here... </tagname>`\n",
    "\n",
    "The HTML element is everything from the start tag to the end tag:"
   ]
  },
  {
   "cell_type": "code",
   "execution_count": null,
   "metadata": {
    "vscode": {
     "languageId": "html"
    }
   },
   "outputs": [],
   "source": [
    "<h1>My First Heading</h1>\n",
    "\n",
    "<p>My first paragraph.</p>"
   ]
  },
  {
   "cell_type": "markdown",
   "metadata": {},
   "source": [
    "### Web Browsers\n",
    "\n",
    "The purpose of a web browser (Chrome, Edge, Firefox, Safari) is to read HTML documents and display them correctly.\n",
    "\n",
    "A browser does not display the HTML tags, but uses them to determine how to display the document."
   ]
  },
  {
   "cell_type": "markdown",
   "metadata": {},
   "source": [
    "## HTML Attributes\n",
    "\n",
    "All HTML elements can have attributes.\n",
    "\n",
    "Attributes provide additional information about elements.\n",
    "\n",
    "Attributes are always specified in the start tag.\n",
    "\n",
    "Attributes usually come in name/value pairs like: name=\"value\".\n"
   ]
  },
  {
   "cell_type": "markdown",
   "metadata": {},
   "source": [
    "### The href Attribute\n",
    "\n",
    "The `<a>` tag defines a hyperlink. The href attribute specifies the URL of the page the link goes to:"
   ]
  },
  {
   "cell_type": "code",
   "execution_count": null,
   "metadata": {
    "vscode": {
     "languageId": "html"
    }
   },
   "outputs": [],
   "source": [
    "<a href=\"https://www.w3schools.com\">HTML Tutorial</a>"
   ]
  },
  {
   "cell_type": "markdown",
   "metadata": {},
   "source": [
    "### The src Attribute\n",
    "\n",
    "The `<img>` tag is used to embed an image in an HTML page. The src attribute specifies the path to the image to be displayed:"
   ]
  },
  {
   "cell_type": "code",
   "execution_count": null,
   "metadata": {
    "vscode": {
     "languageId": "html"
    }
   },
   "outputs": [],
   "source": [
    "<img src=\"img_girl.jpg\">"
   ]
  },
  {
   "cell_type": "markdown",
   "metadata": {},
   "source": [
    "### The width and height Attributes\n",
    "\n",
    "The `<img>` tag should also contain the width and height attributes, which specify the width and height of the image (in pixels):"
   ]
  },
  {
   "cell_type": "code",
   "execution_count": null,
   "metadata": {
    "vscode": {
     "languageId": "html"
    }
   },
   "outputs": [],
   "source": [
    "<img src=\"img_girl.jpg\" width=\"500\" height=\"600\">"
   ]
  },
  {
   "cell_type": "markdown",
   "metadata": {},
   "source": [
    "## HTML Tables\n",
    "\n",
    "HTML tables allow web developers to arrange data into rows and columns."
   ]
  },
  {
   "cell_type": "code",
   "execution_count": null,
   "metadata": {
    "vscode": {
     "languageId": "html"
    }
   },
   "outputs": [],
   "source": [
    "<table>\n",
    "    <tr>\n",
    "      <th>Company</th>\n",
    "      <th>Contact</th> \n",
    "      <th>Country</th>\n",
    "    </tr>\n",
    "    <tr>\n",
    "      <td>Alfreds Futterkiste</td>\n",
    "      <td>Maria Anders</td> \n",
    "      <td>Germany</td>\n",
    "    </tr>\n",
    "    <tr>\n",
    "      <td>Centro comercial Moctezuma</td>\n",
    "      <td>Francisco Chang</td> \n",
    "      <td>Mexico</td>\n",
    "    </tr>\n",
    "  </table>"
   ]
  },
  {
   "cell_type": "markdown",
   "metadata": {},
   "source": [
    "## HTML Forms\n",
    "\n",
    "An HTML form is used to collect user input. The user input is most often sent to a server for processing.\n",
    "\n",
    "### The `<form>` Element\n",
    "\n",
    "The HTML `<form>` element is used to create an HTML form for user input:"
   ]
  },
  {
   "cell_type": "code",
   "execution_count": null,
   "metadata": {
    "vscode": {
     "languageId": "html"
    }
   },
   "outputs": [],
   "source": [
    "<form>\n",
    "    <label for=\"fname\">First name:</label><br>\n",
    "    <input type=\"text\" id=\"fname\" name=\"fname\"><br>\n",
    "    <label for=\"lname\">Last name:</label><br>\n",
    "    <input type=\"text\" id=\"lname\" name=\"lname\">\n",
    "</form>"
   ]
  }
 ],
 "metadata": {
  "kernelspec": {
   "display_name": "flask_auth",
   "language": "python",
   "name": "python3"
  },
  "language_info": {
   "codemirror_mode": {
    "name": "ipython",
    "version": 3
   },
   "file_extension": ".py",
   "mimetype": "text/x-python",
   "name": "python",
   "nbconvert_exporter": "python",
   "pygments_lexer": "ipython3",
   "version": "3.12.2"
  }
 },
 "nbformat": 4,
 "nbformat_minor": 2
}
