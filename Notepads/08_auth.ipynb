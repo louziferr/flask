{
 "cells": [
  {
   "cell_type": "markdown",
   "metadata": {},
   "source": [
    "### Authentication\n",
    "\n",
    "The ability for users to log in to your application is one of the most common features you will add to your web application.\n",
    "\n",
    "This notepad covers how to add authentication to your Flask application using the Flask-Login package.\n",
    "\n",
    "\n",
    "Here is a diagram that gives an idea of what your project's file structure will look like after completing the tutorial:\n",
    "\n",
    "```\n",
    ".\n",
    "└── flask_auth_app\n",
    "    └── project\n",
    "        ├── __init__.py       # setup our app\n",
    "        ├── auth.py           # the auth routes for our app\n",
    "        ├── db.sqlite         # our database\n",
    "        ├── main.py           # the non-auth routes for our app\n",
    "        ├── models.py         # our user model\n",
    "        └── templates\n",
    "            ├── base.html     # contains common layout and links\n",
    "            ├── index.html    # show the home page\n",
    "            ├── login.html    # show the login form\n",
    "            ├── profile.html  # show the profile page\n",
    "            └── signup.html   # show the signup form\n",
    "```"
   ]
  },
  {
   "cell_type": "markdown",
   "metadata": {},
   "source": [
    "### Step 1 — Packages\n",
    "\n",
    "We will need three main packages for this task:\n",
    "\n",
    "- Flask\n",
    "\n",
    "- Flask-Login: to handle user sessions after authentication\n",
    "\n",
    "- Flask-SQLAlchemy: to represent the user model and as an interface to our database\n",
    "\n",
    "First, let's start by creating the project directory:"
   ]
  },
  {
   "cell_type": "code",
   "execution_count": null,
   "metadata": {
    "vscode": {
     "languageId": "bat"
    }
   },
   "outputs": [],
   "source": [
    "mkdir flask_auth_app"
   ]
  },
  {
   "cell_type": "markdown",
   "metadata": {},
   "source": [
    "Then, create a new virtual environment (using anaconda):"
   ]
  },
  {
   "cell_type": "code",
   "execution_count": null,
   "metadata": {
    "vscode": {
     "languageId": "bat"
    }
   },
   "outputs": [],
   "source": [
    "conda create -n flask_auth"
   ]
  },
  {
   "cell_type": "markdown",
   "metadata": {},
   "source": [
    "Install the required packages:"
   ]
  },
  {
   "cell_type": "code",
   "execution_count": null,
   "metadata": {
    "vscode": {
     "languageId": "bat"
    }
   },
   "outputs": [],
   "source": [
    "conda install flask flask-login"
   ]
  },
  {
   "cell_type": "markdown",
   "metadata": {},
   "source": [
    "Let's begin by creating a new directory in our folder:"
   ]
  },
  {
   "cell_type": "code",
   "execution_count": null,
   "metadata": {
    "vscode": {
     "languageId": "bat"
    }
   },
   "outputs": [],
   "source": [
    "mkdir project"
   ]
  },
  {
   "cell_type": "markdown",
   "metadata": {},
   "source": [
    "### Step 2 - Main Application\n",
    "\n",
    "And let's create a file `project/__init__.py` or `project/app.py`.\n",
    "\n",
    "This file will have the function of creating our application, which will initialize the database and register our blueprints. \n",
    "\n",
    "This doesn't do much right now, but it's needed for the rest of our application. \n",
    "\n",
    "We need to initialize SQLAlchemy, set some configuration values, and register our blueprints."
   ]
  },
  {
   "cell_type": "code",
   "execution_count": null,
   "metadata": {},
   "outputs": [],
   "source": [
    "# project/app.py\n",
    "\n",
    "from flask import Flask\n",
    "\n",
    "def create_app():\n",
    "    app = Flask(__name__)\n",
    "    app.config['SECRET_KEY'] = 'secret-key-goes-here'\n",
    "    app.config['SQLALCHEMY_DATABASE_URI'] = 'sqlite:///db.sqlite'\n",
    "\n",
    "    # blueprint for auth routes in our app\n",
    "    from auth import auth as auth_blueprint\n",
    "    app.register_blueprint(auth_blueprint)\n",
    "\n",
    "    # blueprint for non-auth parts of app\n",
    "    from main import main as main_blueprint\n",
    "    app.register_blueprint(main_blueprint)\n",
    "\n",
    "    return app\n",
    "\n",
    "app = create_app()\n",
    "app.run()"
   ]
  },
  {
   "cell_type": "markdown",
   "metadata": {},
   "source": [
    "### Step 3 — Adding Routes\n",
    "\n",
    "We use two blueprints for our routes.\n",
    "\n",
    "For our main blueprint, we have a home page (/) and a profile page (/profile) for after login.\n",
    "\n",
    "If the user tries to access the profile page without being logged in, they will be redirected to the login route."
   ]
  },
  {
   "cell_type": "code",
   "execution_count": null,
   "metadata": {},
   "outputs": [],
   "source": [
    "# project/main.py\n",
    "\n",
    "from flask import Blueprint, render_template\n",
    "\n",
    "main = Blueprint('main', __name__)\n",
    "\n",
    "@main.route('/')\n",
    "def index():\n",
    "    return render_template('index.html')\n",
    "\n",
    "@main.route('/profile')\n",
    "def profile():\n",
    "    return render_template('profile.html')"
   ]
  },
  {
   "cell_type": "code",
   "execution_count": null,
   "metadata": {},
   "outputs": [],
   "source": [
    "# project/auth.py\n",
    "\n",
    "from flask import Blueprint\n",
    "\n",
    "auth = Blueprint('auth', __name__)\n",
    "\n",
    "@auth.route('/login')\n",
    "def login():\n",
    "    return 'Login'\n",
    "\n",
    "@auth.route('/signup')\n",
    "def signup():\n",
    "    return 'Signup'\n",
    "\n",
    "@auth.route('/logout')\n",
    "def logout():\n",
    "    return 'Logout'"
   ]
  },
  {
   "cell_type": "markdown",
   "metadata": {},
   "source": [
    "In a terminal, run:"
   ]
  },
  {
   "cell_type": "code",
   "execution_count": null,
   "metadata": {
    "vscode": {
     "languageId": "bat"
    }
   },
   "outputs": [],
   "source": [
    "export FLASK_APP=project\n",
    "export FLASK_DEBUG=1"
   ]
  },
  {
   "cell_type": "markdown",
   "metadata": {},
   "source": [
    "Make sure, you're in the directory `flask_auth_app` and run:"
   ]
  },
  {
   "cell_type": "code",
   "execution_count": null,
   "metadata": {
    "vscode": {
     "languageId": "bat"
    }
   },
   "outputs": [],
   "source": [
    "flask run"
   ]
  },
  {
   "cell_type": "markdown",
   "metadata": {},
   "source": [
    "### Step 4 — Creating templates\n",
    "\n",
    "Let's move on to creating the templates that will be used in our application.\n",
    "\n",
    "This is the first step before we can implement the actual login functionality.\n",
    "\n",
    "Our application uses four templates:\n",
    "\n",
    "- index.html\n",
    "\n",
    "- profile.html\n",
    "\n",
    "- login.html\n",
    "\n",
    "- signup.html\n",
    "\n",
    "For now, create a new folder in `/project`:"
   ]
  },
  {
   "cell_type": "code",
   "execution_count": null,
   "metadata": {
    "vscode": {
     "languageId": "bat"
    }
   },
   "outputs": [],
   "source": [
    "mkdir templates"
   ]
  },
  {
   "cell_type": "markdown",
   "metadata": {},
   "source": [
    "And create the following files:"
   ]
  },
  {
   "cell_type": "code",
   "execution_count": null,
   "metadata": {
    "vscode": {
     "languageId": "html"
    }
   },
   "outputs": [],
   "source": [
    "<!-- project/templates/base.html -->\n",
    "<!DOCTYPE html>\n",
    "<html>\n",
    "\n",
    "<head>\n",
    "    <meta charset=\"utf-8\">\n",
    "    <meta http-equiv=\"X-UA-Compatible\" content=\"IE=edge\">\n",
    "    <meta name=\"viewport\" content=\"width=device-width, initial-scale=1\">\n",
    "    <title>Flask Auth Example</title>\n",
    "    <link rel=\"stylesheet\" href=\"https://cdnjs.cloudflare.com/ajax/libs/bulma/0.7.2/css/bulma.min.css\" />\n",
    "</head>\n",
    "\n",
    "<body>\n",
    "    <section class=\"hero is-primary is-fullheight\">\n",
    "\n",
    "        <div class=\"hero-head\">\n",
    "            <nav class=\"navbar\">\n",
    "                <div class=\"container\">\n",
    "\n",
    "                    <div id=\"navbarMenuHeroA\" class=\"navbar-menu\">\n",
    "                        <div class=\"navbar-end\">\n",
    "                            <a href=\"{{ url_for('main.index') }}\" class=\"navbar-item\">\n",
    "                                Home\n",
    "                            </a>\n",
    "                            <a href=\"{{ url_for('main.profile') }}\" class=\"navbar-item\">\n",
    "                                Profile\n",
    "                            </a>\n",
    "                            <a href=\"{{ url_for('auth.login') }}\" class=\"navbar-item\">\n",
    "                                Login\n",
    "                            </a>\n",
    "                            <a href=\"{{ url_for('auth.signup') }}\" class=\"navbar-item\">\n",
    "                                Sign Up\n",
    "                            </a>\n",
    "                            <a href=\"{{ url_for('auth.logout') }}\" class=\"navbar-item\">\n",
    "                                Logout\n",
    "                            </a>\n",
    "                        </div>\n",
    "                    </div>\n",
    "                </div>\n",
    "            </nav>\n",
    "        </div>\n",
    "\n",
    "        <div class=\"hero-body\">\n",
    "            <div class=\"container has-text-centered\">\n",
    "               {% block content %}\n",
    "               {% endblock %}\n",
    "            </div>\n",
    "        </div>\n",
    "    </section>\n",
    "</body>\n",
    "\n",
    "</html>"
   ]
  },
  {
   "cell_type": "code",
   "execution_count": null,
   "metadata": {
    "vscode": {
     "languageId": "html"
    }
   },
   "outputs": [],
   "source": [
    "<!-- project/templates/index.html -->\n",
    "\n",
    "\n",
    "{% extends \"base.html\" %}\n",
    "\n",
    "{% block content %}\n",
    "<h1 class=\"title\">\n",
    "  Flask Login Example\n",
    "</h1>\n",
    "<h2 class=\"subtitle\">\n",
    "  Easy authentication and authorization in Flask.\n",
    "</h2>\n",
    "{% endblock %}"
   ]
  },
  {
   "cell_type": "code",
   "execution_count": null,
   "metadata": {
    "vscode": {
     "languageId": "html"
    }
   },
   "outputs": [],
   "source": [
    "<!-- project/templates/login.html -->\n",
    "\n",
    "{% extends \"base.html\" %}\n",
    "\n",
    "{% block content %}\n",
    "<div class=\"column is-4 is-offset-4\">\n",
    "    <h3 class=\"title\">Login</h3>\n",
    "    <div class=\"box\">\n",
    "        <form method=\"POST\" action=\"/login\">\n",
    "            <div class=\"field\">\n",
    "                <div class=\"control\">\n",
    "                    <input class=\"input is-large\" type=\"email\" name=\"email\" placeholder=\"Your Email\" autofocus=\"\">\n",
    "                </div>\n",
    "            </div>\n",
    "\n",
    "            <div class=\"field\">\n",
    "                <div class=\"control\">\n",
    "                    <input class=\"input is-large\" type=\"password\" name=\"password\" placeholder=\"Your Password\">\n",
    "                </div>\n",
    "            </div>\n",
    "            <div class=\"field\">\n",
    "                <label class=\"checkbox\">\n",
    "                    <input type=\"checkbox\">\n",
    "                    Remember me\n",
    "                </label>\n",
    "            </div>\n",
    "            <button class=\"button is-block is-info is-large is-fullwidth\">Login</button>\n",
    "        </form>\n",
    "    </div>\n",
    "</div>\n",
    "{% endblock %}"
   ]
  },
  {
   "cell_type": "code",
   "execution_count": null,
   "metadata": {
    "vscode": {
     "languageId": "html"
    }
   },
   "outputs": [],
   "source": [
    "<!-- project/templates/signup.html -->\n",
    "\n",
    "{% extends \"base.html\" %}\n",
    "\n",
    "{% block content %}\n",
    "<div class=\"column is-4 is-offset-4\">\n",
    "    <h3 class=\"title\">Sign Up</h3>\n",
    "    <div class=\"box\">\n",
    "        <form method=\"POST\" action=\"/signup\">\n",
    "            <div class=\"field\">\n",
    "                <div class=\"control\">\n",
    "                    <input class=\"input is-large\" type=\"email\" name=\"email\" placeholder=\"Email\" autofocus=\"\">\n",
    "                </div>\n",
    "            </div>\n",
    "\n",
    "            <div class=\"field\">\n",
    "                <div class=\"control\">\n",
    "                    <input class=\"input is-large\" type=\"text\" name=\"name\" placeholder=\"Name\" autofocus=\"\">\n",
    "                </div>\n",
    "            </div>\n",
    "\n",
    "            <div class=\"field\">\n",
    "                <div class=\"control\">\n",
    "                    <input class=\"input is-large\" type=\"password\" name=\"password\" placeholder=\"Password\">\n",
    "                </div>\n",
    "            </div>\n",
    "\n",
    "            <button class=\"button is-block is-info is-large is-fullwidth\">Sign Up</button>\n",
    "        </form>\n",
    "    </div>\n",
    "</div>\n",
    "{% endblock %}"
   ]
  },
  {
   "cell_type": "code",
   "execution_count": null,
   "metadata": {
    "vscode": {
     "languageId": "html"
    }
   },
   "outputs": [],
   "source": [
    "<!-- project/templates/profile.html -->\n",
    "\n",
    "\n",
    "{% extends \"base.html\" %}\n",
    "\n",
    "{% block content %}\n",
    "<h1 class=\"title\">\n",
    "  Welcome, Anthony!\n",
    "</h1>\n",
    "{% endblock %}"
   ]
  },
  {
   "cell_type": "markdown",
   "metadata": {},
   "source": [
    "Next, update `main.py` by changing the import line and routes for index and profile:"
   ]
  },
  {
   "cell_type": "code",
   "execution_count": null,
   "metadata": {},
   "outputs": [],
   "source": [
    "# project/main.py\n",
    "from flask import Blueprint, render_template\n",
    "\n",
    "main = Blueprint('main', __name__)\n",
    "\n",
    "@main.route('/')\n",
    "def index():\n",
    "    return render_template('index.html')\n",
    "\n",
    "@main.route('/profile')\n",
    "def profile():\n",
    "    return render_template('profile.html')"
   ]
  },
  {
   "cell_type": "markdown",
   "metadata": {},
   "source": [
    "Now update `auth.py` by changing the import line and routes for login and signup:"
   ]
  },
  {
   "cell_type": "code",
   "execution_count": null,
   "metadata": {},
   "outputs": [],
   "source": [
    "# project/auth.py\n",
    "\n",
    "from flask import Blueprint, render_template\n",
    "\n",
    "auth = Blueprint('auth', __name__)\n",
    "\n",
    "@auth.route('/login')\n",
    "def login():\n",
    "    return render_template('login.html')\n",
    "\n",
    "@auth.route('/signup')\n",
    "def signup():\n",
    "    return render_template('signup.html')\n",
    "\n",
    "@auth.route('/logout')\n",
    "def logout():\n",
    "    return 'Logout'"
   ]
  },
  {
   "cell_type": "markdown",
   "metadata": {},
   "source": [
    "### Step 5 - Setting up the database\n",
    "\n",
    "We need to create a new table in our database to save information about users.\n",
    "\n",
    "Run the following in the directory `project`:"
   ]
  },
  {
   "cell_type": "code",
   "execution_count": null,
   "metadata": {},
   "outputs": [],
   "source": [
    "import sqlite3\n",
    "\n",
    "con = sqlite3.connect(\"login.db\")\n",
    "cur = con.cursor()\n",
    "\n",
    "def create_table():\n",
    "    cur.execute(\"CREATE TABLE user(email, password, name)\")"
   ]
  },
  {
   "cell_type": "markdown",
   "metadata": {},
   "source": [
    "### Step 6 — Creating User Models\n",
    "\n",
    "Our user model represents what it means for our application to have a user.\n",
    "\n",
    "We have fields for an email address, a password and a name.\n",
    "\n",
    "Let's go ahead and create this user model:"
   ]
  },
  {
   "cell_type": "code",
   "execution_count": null,
   "metadata": {},
   "outputs": [],
   "source": [
    "# project/models.py\n",
    "import sqlite3\n",
    "    \n",
    "class User():\n",
    "    def __init__(self, db_file):\n",
    "       self.file = db_file\n",
    "\n",
    "    def new_user(self, mail, password, name):\n",
    "        con = sqlite3.connect(self.file) \n",
    "        cur = self.con.cursor()\n",
    "        cur.execute(f\"\"\"\n",
    "                         INSERT INTO user VALUES\n",
    "                         ('{mail}', '{password}', '{name}')\n",
    "                         \"\"\")\n",
    "        con.commit()\n",
    "        con.close()"
   ]
  },
  {
   "cell_type": "markdown",
   "metadata": {},
   "source": [
    "### Step 7 - Adding Signup Method"
   ]
  },
  {
   "cell_type": "code",
   "execution_count": null,
   "metadata": {},
   "outputs": [],
   "source": [
    "# project/auth.py\n",
    "from flask import Blueprint, render_template, redirect, url_for, request\n",
    "from models import Login\n",
    "\n",
    "auth = Blueprint('auth', __name__)\n",
    "\n",
    "LoginDB = Login(\"project/login.db\")\n",
    "\n",
    "@auth.route('/login')\n",
    "def login():\n",
    "    return render_template('login.html')\n",
    "\n",
    "@auth.route('/logout')\n",
    "def logout():\n",
    "    return 'Logout'\n",
    "\n",
    "@auth.route('/signup')\n",
    "def signup():\n",
    "    return render_template('signup.html')\n",
    "\n",
    "@auth.route('/signup', methods=['POST'])\n",
    "def signup_post():\n",
    "    email = request.form.get('email')\n",
    "    name = request.form.get('name')\n",
    "    password = request.form.get('password')\n",
    "\n",
    "    # create a new user with the form data. Hash the password so the plaintext version isn't saved.\n",
    "    LoginDB.new_user(email, password, name)\n",
    "\n",
    "    return redirect(url_for('auth.login'))"
   ]
  },
  {
   "cell_type": "markdown",
   "metadata": {},
   "source": [
    "### Step 8 - Check if user exists"
   ]
  },
  {
   "cell_type": "code",
   "execution_count": null,
   "metadata": {},
   "outputs": [],
   "source": [
    "# project/models.py\n",
    "import sqlite3\n",
    "    \n",
    "class Login():\n",
    "    def __init__(self, db_file):\n",
    "       self.file = db_file\n",
    "\n",
    "    def new_user(self, mail, password, name):\n",
    "        con = sqlite3.connect(self.file) \n",
    "        cur = con.cursor()\n",
    "        res = cur.execute(f\"SELECT email FROM user WHERE email='{mail}'\")\n",
    "        if res.fetchone() is not None:\n",
    "            # already exists\n",
    "            con.commit()\n",
    "            con.close()\n",
    "            return False\n",
    "        # create new user\n",
    "        cur.execute(f\"\"\"\n",
    "                         INSERT INTO user VALUES\n",
    "                         ('{mail}', '{password}', '{name}')\n",
    "                         \"\"\")\n",
    "        con.commit()\n",
    "        con.close()\n",
    "        return True"
   ]
  },
  {
   "cell_type": "code",
   "execution_count": null,
   "metadata": {},
   "outputs": [],
   "source": [
    "# project/auth.py\n",
    "from flask import Blueprint, render_template, redirect, url_for, request, flash\n",
    "from models import Login\n",
    "\n",
    "auth = Blueprint('auth', __name__)\n",
    "\n",
    "LoginDB = Login(\"project/login.db\")\n",
    "\n",
    "@auth.route('/login')\n",
    "def login():\n",
    "    return render_template('login.html')\n",
    "\n",
    "@auth.route('/logout')\n",
    "def logout():\n",
    "    return 'Logout'\n",
    "\n",
    "@auth.route('/signup')\n",
    "def signup():\n",
    "    return render_template('signup.html')\n",
    "\n",
    "@auth.route('/signup', methods=['POST'])\n",
    "def signup_post():\n",
    "    email = request.form.get('email')\n",
    "    name = request.form.get('name')\n",
    "    password = request.form.get('password')\n",
    "\n",
    "    # create a new user with the form data. Hash the password so the plaintext version isn't saved.\n",
    "    new_user = LoginDB.new_user(email, password, name)\n",
    "\n",
    "    if not new_user:\n",
    "        flash('Email address already exists')\n",
    "        return redirect(url_for('auth.signup'))\n",
    "\n",
    "    return redirect(url_for('auth.login'))"
   ]
  },
  {
   "cell_type": "markdown",
   "metadata": {},
   "source": [
    "Add this to `signup.html` right before the form:"
   ]
  },
  {
   "cell_type": "markdown",
   "metadata": {},
   "source": [
    "{% with messages = get_flashed_messages() %}\n",
    "        {% if messages %}\n",
    "        <div class=\"notification is-danger\">\n",
    "            {{ messages[0] }}. Go to <a href=\"{{ url_for('auth.login') }}\">login page</a>.\n",
    "        </div>\n",
    "        {% endif %}\n",
    "        {% endwith %}"
   ]
  },
  {
   "cell_type": "markdown",
   "metadata": {},
   "source": [
    "### Step 9 — Testing the registration method\n",
    "\n",
    "Now that we have completed the registration method, we should be able to create a new user.\n",
    "\n",
    "Use the form to create a user."
   ]
  },
  {
   "cell_type": "markdown",
   "metadata": {},
   "source": [
    "### Step 10 — Add Login Method\n",
    "\n",
    "The login method is similar to the registration feature in that we take the user information and do something with it.\n",
    "\n",
    "In this case, we compare the entered email address to see if it is in the database.\n",
    "\n",
    "Once the user passes password verification, we know they have the correct credentials and we can log in with Flask login.\n",
    "\n",
    "By calling login_user, Flask-Login creates a session for that user that persists while the user remains logged in, allowing the user to view protected pages.\n",
    "\n",
    "We can start with a new route for handling the POSTed files. If the user logs in successfully, we redirect to the profile page."
   ]
  },
  {
   "cell_type": "code",
   "execution_count": null,
   "metadata": {},
   "outputs": [],
   "source": [
    "# project/models.py\n",
    "import sqlite3\n",
    "    \n",
    "class Login():\n",
    "    def __init__(self, db_file):\n",
    "       self.file = db_file\n",
    "\n",
    "    def new_user(self, mail, password, name):\n",
    "        con = sqlite3.connect(self.file) \n",
    "        cur = con.cursor()\n",
    "        res = cur.execute(f\"SELECT email FROM user WHERE email='{mail}'\")\n",
    "        if res.fetchone() is not None:\n",
    "            con.commit()\n",
    "            con.close()\n",
    "            return False\n",
    "        cur.execute(f\"\"\"\n",
    "                         INSERT INTO user VALUES\n",
    "                         ('{mail}', '{password}', '{name}')\n",
    "                         \"\"\")\n",
    "        con.commit()\n",
    "        con.close()\n",
    "        return True\n",
    "    \n",
    "    def login(self, mail, password):\n",
    "        con = sqlite3.connect(self.file) \n",
    "        cur = con.cursor()\n",
    "        for row in cur.execute(f\"SELECT email, password FROM user WHERE email='{mail}'\"):\n",
    "            password_db = row[1]\n",
    "        con.close()\n",
    "        return password == password_db"
   ]
  },
  {
   "cell_type": "markdown",
   "metadata": {},
   "source": [
    "Add this before the form in `login.html`:"
   ]
  },
  {
   "cell_type": "markdown",
   "metadata": {},
   "source": [
    "{% with messages = get_flashed_messages() %}\n",
    "{% if messages %}\n",
    "    <div class=\"notification is-danger\">\n",
    "        {{ messages[0] }}\n",
    "    </div>\n",
    "{% endif %}\n",
    "{% endwith %}"
   ]
  },
  {
   "cell_type": "markdown",
   "metadata": {},
   "source": [
    "### Step 10 — Protect Pages\n",
    "\n",
    "If your name is not also Anthony, you will find that your name is incorrect.\n",
    "\n",
    "We want the profile to display the name in the database. \n",
    "\n",
    "So first we need to protect the page and then access the user's data to get the name.\n",
    "\n",
    "To protect a page when using Flask-Login, we add the @login_requried decorator between the route and the function. This prevents a user who is not logged in from seeing the route. If the user is not logged in, the user will be redirected to the login page according to the Flask login configuration.\n",
    "\n",
    "For routes that have the @login_required decorator, we then have the option of using the current_user object within the function. This current_user represents the user from the database and we can access all the attributes of this user using dot notation. For example, current_user.email, current_user.password and current_user.name, and current_user.id return the actual values stored in the database for the logged in user.\n",
    "\n",
    "Let's use the current user's name and send it to the template. Then we use that name and display its value."
   ]
  },
  {
   "cell_type": "code",
   "execution_count": null,
   "metadata": {},
   "outputs": [],
   "source": [
    "# add this to project/main.py\n",
    "\n",
    "@main.route('/profile')\n",
    "@login_required\n",
    "def profile():\n",
    "    return render_template('profile.html', name=current_user.name)"
   ]
  },
  {
   "cell_type": "markdown",
   "metadata": {},
   "source": [
    "Change `project/templates/profile.html` to:"
   ]
  },
  {
   "cell_type": "code",
   "execution_count": null,
   "metadata": {
    "vscode": {
     "languageId": "html"
    }
   },
   "outputs": [],
   "source": [
    "<!-- templates/profile.html -->\n",
    "\n",
    "\n",
    "{% extends \"base.html\" %}\n",
    "\n",
    "{% block content %}\n",
    "<h1 class=\"title\">\n",
    "    Welcome, {{ name }}!\n",
    "</h1>\n",
    "{% endblock %}"
   ]
  },
  {
   "cell_type": "markdown",
   "metadata": {},
   "source": [
    "Add this to `project/auth.py`:"
   ]
  },
  {
   "cell_type": "code",
   "execution_count": null,
   "metadata": {},
   "outputs": [],
   "source": [
    "from flask_login import login_user, logout_user, login_required\n",
    "...\n",
    "@auth.route('/logout')\n",
    "@login_required\n",
    "def logout():\n",
    "    logout_user()\n",
    "    return redirect(url_for('main.index'))"
   ]
  },
  {
   "cell_type": "markdown",
   "metadata": {},
   "source": [
    "Replace the navbar-end tag in `project/templates/base.html` with:"
   ]
  },
  {
   "cell_type": "code",
   "execution_count": null,
   "metadata": {
    "vscode": {
     "languageId": "html"
    }
   },
   "outputs": [],
   "source": [
    "<div class=\"navbar-end\">\n",
    "    <a href=\"{{ url_for('main.index') }}\" class=\"navbar-item\">\n",
    "        Home\n",
    "    </a>\n",
    "    {% if current_user.is_authenticated %}\n",
    "    <a href=\"{{ url_for('main.profile') }}\" class=\"navbar-item\">\n",
    "        Profile\n",
    "    </a>\n",
    "    {% endif %}\n",
    "    {% if not current_user.is_authenticated %}\n",
    "    <a href=\"{{ url_for('auth.login') }}\" class=\"navbar-item\">\n",
    "        Login\n",
    "    </a>\n",
    "    <a href=\"{{ url_for('auth.signup') }}\" class=\"navbar-item\">\n",
    "        Sign Up\n",
    "    </a>\n",
    "    {% endif %}\n",
    "    {% if current_user.is_authenticated %}\n",
    "    <a href=\"{{ url_for('auth.logout') }}\" class=\"navbar-item\">\n",
    "        Logout\n",
    "    </a>\n",
    "    {% endif %}\n",
    "</div>"
   ]
  }
 ],
 "metadata": {
  "kernelspec": {
   "display_name": "flask_auth",
   "language": "python",
   "name": "python3"
  },
  "language_info": {
   "codemirror_mode": {
    "name": "ipython",
    "version": 3
   },
   "file_extension": ".py",
   "mimetype": "text/x-python",
   "name": "python",
   "nbconvert_exporter": "python",
   "pygments_lexer": "ipython3",
   "version": "3.12.2"
  }
 },
 "nbformat": 4,
 "nbformat_minor": 2
}
