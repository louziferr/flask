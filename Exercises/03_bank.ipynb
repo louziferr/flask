{
 "cells": [
  {
   "cell_type": "markdown",
   "metadata": {},
   "source": [
    "## Exercise: Bank System\n",
    "\n",
    "Create a Python program that models a simple bank account system using classes.\n",
    "\n",
    "The program should have the following features:\n",
    "\n",
    "### Bank Class: \n",
    "\n",
    "Create an class called `Bank` with the following attributes and methods:\n",
    "\n",
    "###  Attributes:\n",
    "\n",
    "- `accounts`: a dictionary including information about the customers (empty)\n",
    "\n",
    "The dictionary `accounts` will be used later on and should have the following format:\n",
    "\n",
    "- `keys`: a string that consists of six digits\n",
    "- `values`: another dicitionary with information about the customers (name and balance)\n",
    "\n",
    "### Methods:\n",
    "\n",
    "- `new_account(account_number, name)`: Create a new account. Add a new entry in `accounts`. Set the balance to 0.\n",
    "\n",
    "- `deposit(account_number, amount)`: Add the given amount to the account balance.\n",
    "\n",
    "- `withdraw(account_number, amount)`: Deduct the given amount from the account balance. \n",
    "\n",
    "- `get_balance(account_number)`: Return the current balance.\n",
    "\n",
    "- `get_account_number(name)`: Return the account number for the given name."
   ]
  },
  {
   "cell_type": "markdown",
   "metadata": {},
   "source": [
    "Note:\n",
    "\n",
    "Use proper encapsulation and error handling techniques."
   ]
  },
  {
   "cell_type": "markdown",
   "metadata": {},
   "source": [
    "### Main Program:\n",
    "\n",
    "Write a main program to demonstrate the functionality of the Bank class.\n",
    "\n",
    "Create at least two instances of the Account class and perform various transactions (deposits, withdrawals) on them. \n",
    "\n",
    "Display the account details and balances after each transaction."
   ]
  },
  {
   "cell_type": "code",
   "execution_count": 3,
   "metadata": {},
   "outputs": [],
   "source": [
    "### your code ###"
   ]
  },
  {
   "cell_type": "markdown",
   "metadata": {},
   "source": [
    "### Extension: Enhanced Bank System\n",
    "\n",
    "Enhance the Account class with the following additional features:\n",
    "\n",
    "### Overdraft Protection:\n",
    "Implement a feature to allow a predefined overdraft limit on the account.\n",
    "\n",
    "### Transaction History:\n",
    "Keep track of all transactions (deposits, withdrawals) in a dictionary.\n",
    "\n",
    "The dictionary should have this structure:\n",
    "\n",
    "- `keys`: strings that represent the account numbers\n",
    "- `values`: lists that contain information about the transaction history.\n",
    "\n",
    "### Methods:\n",
    "\n",
    "Implement three more methods in your class `Bank`:\n",
    "\n",
    "- `history(account_number)`: Method to get a list describing the transaction history.\n",
    "\n",
    "- `save(filename)`: Method to save all information abount your bank-accounts to a json-file.\n",
    "\n",
    "- `load(filename)`: Method to load previous data from a json-file.\n",
    "\n",
    "Test your class and the funcionalities below."
   ]
  },
  {
   "cell_type": "code",
   "execution_count": null,
   "metadata": {},
   "outputs": [],
   "source": [
    "### your code ###"
   ]
  },
  {
   "cell_type": "markdown",
   "metadata": {},
   "source": [
    "## Online Bank\n",
    "\n",
    "Now we want to use the previously created class to run our banking system online.\n",
    "\n",
    "Create a new Flask Application.\n",
    "\n",
    "Create the following pages and their functionalities:"
   ]
  },
  {
   "cell_type": "markdown",
   "metadata": {},
   "source": [
    "### Page: New Account\n",
    "\n",
    "A page to create a new bank account.\n",
    "\n",
    "It contains a form, asking for an account number and a name.\n",
    "\n",
    "Process the input and create a new account with your online banking system."
   ]
  },
  {
   "cell_type": "markdown",
   "metadata": {},
   "source": [
    "### Page: Account Information\n",
    "\n",
    "A page that displays information about all existing accounts."
   ]
  },
  {
   "cell_type": "markdown",
   "metadata": {},
   "source": [
    "### Page: Deposit\n",
    "\n",
    "A page to add a deposit to a given account.\n",
    "\n",
    "It contains a form, asking for an account number and the amount of the deposit."
   ]
  },
  {
   "cell_type": "markdown",
   "metadata": {},
   "source": [
    "### Page: Withdraw\n",
    "\n",
    "A page to withdraw from a given account.\n",
    "\n",
    "It contains a form, asking for an account number and the amount of the withdrawal."
   ]
  },
  {
   "cell_type": "markdown",
   "metadata": {},
   "source": [
    "### Page: Transaction History\n",
    "\n",
    "A page displaying the transaction history of a given account number.\n",
    "\n",
    "It contains a form, asking for an account number.\n",
    "\n",
    "It then displays all the transactions done in the past for that account."
   ]
  },
  {
   "cell_type": "markdown",
   "metadata": {},
   "source": [
    "."
   ]
  }
 ],
 "metadata": {
  "kernelspec": {
   "display_name": "flask_auth",
   "language": "python",
   "name": "python3"
  },
  "language_info": {
   "codemirror_mode": {
    "name": "ipython",
    "version": 3
   },
   "file_extension": ".py",
   "mimetype": "text/x-python",
   "name": "python",
   "nbconvert_exporter": "python",
   "pygments_lexer": "ipython3",
   "version": "3.12.2"
  }
 },
 "nbformat": 4,
 "nbformat_minor": 2
}
