{
 "cells": [
  {
   "cell_type": "markdown",
   "metadata": {},
   "source": [
    "### Excercise: Python Classes\n",
    "\n",
    "This is an exercise for writing a class in Python.\n",
    "\n",
    "You are the web developer for a company that sells computer gear.\n",
    "\n",
    "You want to write a program to automatically create HTML-tables that include information about the companies products."
   ]
  },
  {
   "cell_type": "markdown",
   "metadata": {},
   "source": [
    "### Task 1.1\n",
    "\n",
    "Create a new file called `HTMLGenerator.py`.\n",
    "\n",
    "In the file, create a class called `HTMLGenerator`.\n",
    "\n",
    "Create a constructor that creates a new class attribute: an empty dictionary called `stock`.\n",
    "\n",
    "Test your code with the cell below. \n",
    "\n",
    "<b>ALWAYS RESTART THE KERNEL BEFORE TESTING!</b>"
   ]
  },
  {
   "cell_type": "code",
   "execution_count": 8,
   "metadata": {},
   "outputs": [],
   "source": [
    "## TESTING ###\n",
    "from HTMLGenerator import HTMLGenerator\n",
    "\n",
    "# create instance of Supermarket\n",
    "generator = HTMLGenerator()\n",
    "\n",
    "# check if stock exists and is empty\n",
    "assert(isinstance(generator.stock, dict))\n",
    "assert(len(generator.stock) == 0)"
   ]
  },
  {
   "cell_type": "markdown",
   "metadata": {},
   "source": [
    "### Task 1.2\n",
    "\n",
    "In your class `HTMLGenerator`, write a method called `add_product(product, quantity)` that takes two arguments:\n",
    "\n",
    "- `product`: a string that represents the name of the product\n",
    "- `quantity`: an integer that represents the quantity of that product in your stock\n",
    "\n",
    "The method adds a new product to your dict `stock`, with `product` being the key and `quantity` being the value.\n",
    "\n",
    "If the product already is in your stock, it simply adds up the quantities.\n",
    "\n",
    "Test your code with the cell below. \n",
    "\n",
    "<b>ALWAYS RESTART THE KERNEL BEFORE TESTING!</b>"
   ]
  },
  {
   "cell_type": "code",
   "execution_count": 2,
   "metadata": {},
   "outputs": [],
   "source": [
    "### TESTING ###\n",
    "from HTMLGenerator import HTMLGenerator\n",
    "\n",
    "# create instance of Supermarket\n",
    "generator = HTMLGenerator()\n",
    "\n",
    "# check if stock exists and is empty\n",
    "assert(isinstance(generator.stock, dict))\n",
    "assert(len(generator.stock) == 0)\n",
    "# add product\n",
    "generator.add_product(\"phone\", 5)\n",
    "\n",
    "# check if product has been added\n",
    "assert(\"phone\" in generator.stock)\n",
    "assert(generator.stock[\"phone\"] == 5)"
   ]
  },
  {
   "cell_type": "markdown",
   "metadata": {},
   "source": [
    "### Task 1.3\n",
    "\n",
    "In your class `HTMLGenerator`, write a method called `generate_table()` that takes no arguments.\n",
    "\n",
    "The method creates a string in the form of an [HTML-table](https://www.w3schools.com/html/html_tables.asp).\n",
    "\n",
    "The table has the two headers `Product` and `Quantity`.\n",
    "\n",
    "For each product in the companies stock, a list entry is added.\n",
    "\n",
    "<b>ALWAYS RESTART THE KERNEL BEFORE TESTING!</b>"
   ]
  },
  {
   "cell_type": "code",
   "execution_count": 6,
   "metadata": {},
   "outputs": [],
   "source": [
    "### TESTING ###\n",
    "from HTMLGenerator import HTMLGenerator\n",
    "\n",
    "# create instance of Supermarket\n",
    "generator = HTMLGenerator()\n",
    "\n",
    "# check if stock exists and is empty\n",
    "assert(isinstance(generator.stock, dict))\n",
    "assert(len(generator.stock) == 0)\n",
    "# add product\n",
    "generator.add_product(\"phone\", 90)\n",
    "generator.add_product(\"headphones\", 24)\n",
    "generator.add_product(\"charger\", 12)\n",
    "\n",
    "# check if product has been added\n",
    "assert(\"charger\" in generator.stock)\n",
    "assert(generator.stock[\"headphones\"] == 24)\n",
    "\n",
    "correct_table = \"<table><tr><th>Product</th><th>Quantity</th></tr><tr><td>phone</td><td>90</td></tr><tr><td>headphones</td><td>24</td></tr><tr><td>charger</td><td>12</td></tr></table>\"\n",
    "\n",
    "assert(generator.generate_table() == correct_table)"
   ]
  }
 ],
 "metadata": {
  "kernelspec": {
   "display_name": "pythonIIworkshop",
   "language": "python",
   "name": "python3"
  },
  "language_info": {
   "codemirror_mode": {
    "name": "ipython",
    "version": 3
   },
   "file_extension": ".py",
   "mimetype": "text/x-python",
   "name": "python",
   "nbconvert_exporter": "python",
   "pygments_lexer": "ipython3",
   "version": "3.12.2"
  },
  "orig_nbformat": 4
 },
 "nbformat": 4,
 "nbformat_minor": 2
}
