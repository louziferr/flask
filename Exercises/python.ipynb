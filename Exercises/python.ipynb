{
 "cells": [
  {
   "cell_type": "markdown",
   "metadata": {},
   "source": [
    "### Python: Recap Exercises"
   ]
  },
  {
   "cell_type": "markdown",
   "metadata": {},
   "source": [
    "### Task 1\n",
    "\n",
    "Given is a string representing the content of a HTML-website.\n",
    "\n",
    "The string contains one `<a>` element.\n",
    "\n",
    "Extract only the source of the website that the element is linking to and save it in a variable called `link`.\n",
    "\n",
    "Use the `find()` method and string indexing."
   ]
  },
  {
   "cell_type": "code",
   "execution_count": 16,
   "metadata": {},
   "outputs": [
    {
     "data": {
      "text/plain": [
       "'https://mywebsite.com'"
      ]
     },
     "execution_count": 16,
     "metadata": {},
     "output_type": "execute_result"
    }
   ],
   "source": [
    "website = \"<body><p>Websites: There are many like it, but this one is <a src='https://mywebsite.com'>mine.</a></p> </body>\"\n",
    "\n",
    "### your solution\n",
    "start=website.find(\"src='\")\n",
    "website = website[start+5:]\n",
    "link=website[:website.find(\"'>\")]\n",
    "\n",
    "link"
   ]
  },
  {
   "cell_type": "markdown",
   "metadata": {},
   "source": [
    "### Task 2\n",
    "\n",
    "Given is a list called `tags` that contains strings representing HTML-tags.\n",
    "\n",
    "Create a new list called `closed_tags` that contains the same tags but in the closed form."
   ]
  },
  {
   "cell_type": "code",
   "execution_count": 14,
   "metadata": {},
   "outputs": [
    {
     "data": {
      "text/plain": [
       "['</h1>', '</h2>', '</p>', '</script>']"
      ]
     },
     "execution_count": 14,
     "metadata": {},
     "output_type": "execute_result"
    }
   ],
   "source": [
    "tags = ['<h1>', '<h2>', '<p>', '<script>']\n",
    "\n",
    "### your solution ###\n",
    "closed_tags = [tag[:1] + '/' + tag[1:] for tag in tags]\n",
    "\n",
    "closed_tags"
   ]
  },
  {
   "cell_type": "markdown",
   "metadata": {},
   "source": [
    "### Task 3\n",
    "\n",
    "Imagine you work with strings that represent the HTML-contents of websites.\n",
    "\n",
    "You want to know exactly, which tags are used in the strings.\n",
    "\n",
    "Write a function called `get_tags(web_string)` that takes one argument:\n",
    "\n",
    "- `web_string`: a string representing the HTML-content of a website\n",
    "\n",
    "It returns a dictionary in the form:\n",
    "\n",
    "- `keys`: strings that represent the used tags\n",
    "\n",
    "- `values`: integers that represent the number of times the tag has occured\n",
    "\n",
    "### Example\n",
    "\n",
    "`get_tags('<h1>Welcome to my first webpage!</h1><p>I am excited.</p>')`\n",
    "\n",
    "should return\n",
    "\n",
    "`{'<h1>': 1, '</h1>': 1, '<p>': 1, '</p>': 1}`"
   ]
  },
  {
   "cell_type": "code",
   "execution_count": 11,
   "metadata": {},
   "outputs": [],
   "source": [
    "### your solution ###\n",
    "def get_tags(web_string):\n",
    "    tags = dict()\n",
    "    while web_string.find('<') != -1:\n",
    "        start = web_string.find('<')\n",
    "        end = web_string.find('>')\n",
    "        tag = web_string[start:end+1]\n",
    "        if tag not in tags:\n",
    "            tags[tag] = 0\n",
    "        tags[tag] += 1\n",
    "        web_string = web_string[end+1:]\n",
    "    return tags"
   ]
  },
  {
   "cell_type": "code",
   "execution_count": 17,
   "metadata": {},
   "outputs": [],
   "source": [
    "### TESTING ###\n",
    "\n",
    "assert(callable(get_tags))\n",
    "test = get_tags('<h1>Welcome to my first webpage!</h1><p>I am excited.</p><h1>Hope you are too!</h1>')\n",
    "assert(len(test) == 4)\n",
    "assert(test['<h1>'] == 2)"
   ]
  }
 ],
 "metadata": {
  "kernelspec": {
   "display_name": "flask_auth",
   "language": "python",
   "name": "python3"
  },
  "language_info": {
   "codemirror_mode": {
    "name": "ipython",
    "version": 3
   },
   "file_extension": ".py",
   "mimetype": "text/x-python",
   "name": "python",
   "nbconvert_exporter": "python",
   "pygments_lexer": "ipython3",
   "version": "3.12.2"
  }
 },
 "nbformat": 4,
 "nbformat_minor": 2
}
