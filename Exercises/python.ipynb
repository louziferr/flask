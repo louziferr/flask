{
 "cells": [
  {
   "cell_type": "markdown",
   "metadata": {},
   "source": [
    "### Python: Recap Exercises"
   ]
  },
  {
   "cell_type": "markdown",
   "metadata": {},
   "source": [
    "### Task 1: Loops\n",
    "\n",
    "Given is a list called `numbers`. \n",
    "\n",
    "With the given list, implement the following formula:\n",
    "\n",
    "$F = \\sum_{i=1}^{n} (x_i - 3)$  \n",
    "\n",
    "*Hint: $x_i$ are the single list items*\n",
    "\n",
    "Save the result in a variable called `result_F`."
   ]
  },
  {
   "cell_type": "code",
   "execution_count": null,
   "metadata": {},
   "outputs": [],
   "source": [
    "numbers = [1, 34, 12, 3, 43, 2, 56, 6]\n",
    "\n",
    "### your solution ###"
   ]
  },
  {
   "cell_type": "markdown",
   "metadata": {},
   "source": [
    "### Task 2: Strings\n",
    "\n",
    "Given is a string called `full_name` that represents the full name of a person in the format `\"first_name second_name\"`.\n",
    "\n",
    "You want to extract the single names (first name, last name) from the string.\n",
    "\n",
    "Create a new string called `first_name` that represents the first name of the person.\n",
    "\n",
    "Create a new string called `second_name` that represents the second name of the person.\n",
    "\n",
    "Lastly, create a new string called `full_name_new` that represents the full name of the person in the format `\"second_name, first_name\"`."
   ]
  },
  {
   "cell_type": "code",
   "execution_count": null,
   "metadata": {},
   "outputs": [],
   "source": [
    "full_name = \"Lisa Harvey\"\n",
    "\n",
    "### your solution ###"
   ]
  },
  {
   "cell_type": "markdown",
   "metadata": {},
   "source": [
    "### Task 3: Dictionaries\n",
    "\n",
    "Given is a dictionary called `product_prices` in the following form:\n",
    "\n",
    "- `keys`: strings that represent the name of a product\n",
    "- `values`: floating numbers that represent the price of the product in EUR\n",
    "\n",
    "A woman buys a leggins, a volleyball and a frisbee. Calculate the price she pays and save it in the variable `price`."
   ]
  },
  {
   "cell_type": "code",
   "execution_count": null,
   "metadata": {},
   "outputs": [],
   "source": [
    "product_prices = {\"surfboard\": 299.99,\n",
    "                  \"leggins\": 15.50,\n",
    "                  \"volleyball\": 29.90,\n",
    "                  \"t-shirt\": 19.99,\n",
    "                  \"frisbee\": 4.99}\n",
    "\n",
    "### your solution ###"
   ]
  },
  {
   "cell_type": "markdown",
   "metadata": {},
   "source": [
    "### Task 4: Lists and Dictionaries\n",
    "\n",
    "Given is a list of lists with female winners of the NYC marathon in the format:\n",
    "\n",
    "`[[YEAR,NAME,COUNTRY,TIME]]`\n",
    "\n",
    "Create a new dictionary called `winner_count` that has the following data:\n",
    "\n",
    "- `keys`: a string that represents the name of the winner\n",
    "- `values`: an integer that represents the total number of times that person won\n",
    "\n",
    "*Hint: Loop through the list. Start with an empty dictionary and add winners as a key-value pair as they appear, so you'll end up with a dictionary like {\"winner1\":count1, \"winner2\":count2, ...}.*"
   ]
  },
  {
   "cell_type": "code",
   "execution_count": null,
   "metadata": {},
   "outputs": [],
   "source": [
    "winners = [[1971,   \"Beth Bonner\",     \"United States\", \"2:55:22\"],\n",
    "           [1978,   \"Grete Waitz\",     \"Norway\",        \"2:32:30\"],\n",
    "           [1975,   \"Kim Merritt\",     \"United States\", \"2:46:14\"],\n",
    "           [1976,   \"Miki Gorman\",     \"United States\", \"2:39:11\"],\n",
    "           [2015,   \"Mary Keitany\",    \"Kenya\",         \"2:24:25\"],\n",
    "           [1981,   \"Allison Roe\",     \"New Zealand\",   \"2:25:29\"],\n",
    "           [1983,   \"Grete Waitz\",     \"Norway\",        \"2:27:00\"],\n",
    "           [1991,   \"Liz McColgan\",    \"United Kingdom\",\"2:29:32\"],\n",
    "           [2014,   \"Mary Keitany\",    \"Kenya\",         \"2:25:07\"],\n",
    "           [1972,   \"Nina Kuscsik\",    \"United States\", \"3:08:41\"],\n",
    "           [1973,   \"Nina Kuscsik\",    \"United States\", \"2:57:07\"],\n",
    "           [1977,   \"Miki Gorman\",     \"United States\", \"2:43:10\"],\n",
    "           [2016,   \"Mary Keitany\",    \"Kenya\",         \"2:24:26\"]]\n",
    "\n",
    "### your solution ###"
   ]
  },
  {
   "cell_type": "code",
   "execution_count": null,
   "metadata": {},
   "outputs": [],
   "source": [
    "### TESTING ###\n",
    "\n",
    "assert(isinstance(winner_count, dict))\n",
    "assert(len(winner_count) == 8)\n",
    "assert(winner_count[\"Miki Gorman\"] == 2)"
   ]
  },
  {
   "cell_type": "markdown",
   "metadata": {},
   "source": [
    "### Task 5: Functions\n",
    "\n",
    "Define a function called `pythagoras()` that calulates the length of the hypthenuse in a right triangle. It takes two arguments:\n",
    "\n",
    "- `length_a`: a number representing the length of the side a.\n",
    "- `length_b`: a number representing the length of the side b.\n",
    "\n",
    "The function returns the length of the side c following the rule of pythagoras:\n",
    "\n",
    "\n",
    "$c = \\sqrt{a^2 + b^2}$ \n",
    "\n",
    "Make use of the function `sqrt()` from the python math library. This function calculates the square root of the given argument."
   ]
  },
  {
   "cell_type": "code",
   "execution_count": null,
   "metadata": {},
   "outputs": [],
   "source": [
    "from math import sqrt\n",
    "\n",
    "### your solution ###"
   ]
  },
  {
   "cell_type": "code",
   "execution_count": null,
   "metadata": {},
   "outputs": [],
   "source": [
    "### TESTING ###\n",
    "\n",
    "assert(callable(pythagoras))\n",
    "assert(round(pythagoras(2, 4), 4) == 4.4721)\n",
    "assert(round(pythagoras(3.3, 1), 4) == 3.4482)"
   ]
  },
  {
   "cell_type": "markdown",
   "metadata": {},
   "source": [
    "### Task 6.1: Sets and Dictionaries\n",
    "\n",
    "Given is a dictionary called `student_classes` in the following form:\n",
    "\n",
    "- `keys`: strings that represent the names of students\n",
    "- `values`: sets that contain strings that represent the classes the student is enrolled in\n",
    "\n",
    "A new student joins. Her name is `Kira Kern` and she is enrolled in `Math`, `Sociology` and `Physics`.\n",
    "\n",
    "Add Kira and the information about her classes to the dictionary."
   ]
  },
  {
   "cell_type": "code",
   "execution_count": null,
   "metadata": {},
   "outputs": [],
   "source": [
    "student_classes = {\"Lisa Harvey\": {\"Math\", \"Computer Science\", \"Musicology\"},\n",
    "                   \"Tom Taylor\": {\"Sociology\", \"Musicology\", \"Linguistics\"},\n",
    "                   \"Anna Schuck\": {\"Linguistics\", \"Computer Science\", \"Physics\"},\n",
    "                   \"Bernd Kern\": {\"Physics\", \"Math\", \"Linguistics\"}}\n",
    "\n",
    "### your solution ###"
   ]
  },
  {
   "cell_type": "markdown",
   "metadata": {},
   "source": [
    "### Task 6.2: Sets\n",
    "\n",
    "You want to know which students are currently enrolled in Computer Science.\n",
    "\n",
    "Create a new set called `computer_science_students` that contains the names of the enrolled students."
   ]
  },
  {
   "cell_type": "code",
   "execution_count": null,
   "metadata": {},
   "outputs": [],
   "source": [
    "### your solution ###"
   ]
  },
  {
   "cell_type": "code",
   "execution_count": null,
   "metadata": {},
   "outputs": [],
   "source": [
    "### TESTING ###\n",
    "\n",
    "assert(isinstance(computer_science_students, set))\n",
    "assert(len(computer_science_students) == 2)\n",
    "assert(\"Anna Schuck\" in computer_science_students)"
   ]
  },
  {
   "cell_type": "markdown",
   "metadata": {},
   "source": [
    "### Task 7: Tuples\n",
    "\n",
    "Given is a dictionary called `movie_info` in the following format:\n",
    "\n",
    "- `keys`: strings that represent the name of the movies\n",
    "- `values`: tuples in the form (length, age) that represent the length in minutes and the age restriction of the movie\n",
    "\n",
    "Calculate the average length of the movies and save it in a variable called `avg_movie_length`.\n",
    "\n",
    "Round the movie length to the second decimal point (i.e. 111,23)."
   ]
  },
  {
   "cell_type": "code",
   "execution_count": null,
   "metadata": {},
   "outputs": [],
   "source": [
    "movie_info = {\"Kill Bill\": (111, 18), # Kill Bill is 111 minutes long and has an FSK of 18\n",
    "                \"Der Rausch\": (116, 12),\n",
    "                \"Pulp Fiction\": (154, 16),\n",
    "                \"La La Land\": (128, 0),\n",
    "                \"Spongebob\": (87, 0),\n",
    "                \"Shape of Water\": (123, 16),\n",
    "                \"Django Unchained\": (165, 16)\n",
    "                }\n",
    "\n",
    "### your solution ###"
   ]
  }
 ],
 "metadata": {
  "language_info": {
   "name": "python"
  }
 },
 "nbformat": 4,
 "nbformat_minor": 2
}
